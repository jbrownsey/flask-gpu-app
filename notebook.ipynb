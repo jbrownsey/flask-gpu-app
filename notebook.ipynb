{
  "cells": [
    {
      "cell_type": "code",
      "source": [
        "import shutil\n",
        "shutil.rmtree('/content/flask-gpu-app')"
      ],
      "metadata": {
        "id": "tEv4FJZnothC"
      },
      "execution_count": 1,
      "outputs": []
    },
    {
      "cell_type": "code",
      "execution_count": 2,
      "metadata": {
        "id": "wJEtwttA_AEw",
        "outputId": "af34c31c-2784-46e9-a7b1-8bdd28fbb17f",
        "colab": {
          "base_uri": "https://localhost:8080/"
        }
      },
      "outputs": [
        {
          "output_type": "stream",
          "name": "stdout",
          "text": [
            "Cloning into 'flask-gpu-app'...\n",
            "remote: Enumerating objects: 149, done.\u001b[K\n",
            "remote: Counting objects: 100% (107/107), done.\u001b[K\n",
            "remote: Compressing objects: 100% (64/64), done.\u001b[K\n",
            "remote: Total 149 (delta 70), reused 74 (delta 43), pack-reused 42 (from 1)\u001b[K\n",
            "Receiving objects: 100% (149/149), 39.23 KiB | 2.61 MiB/s, done.\n",
            "Resolving deltas: 100% (84/84), done.\n"
          ]
        }
      ],
      "source": [
        "import os\n",
        "os.chdir(\"/content/\")\n",
        "!git clone https://github.com/jbrownsey/flask-gpu-app"
      ]
    },
    {
      "cell_type": "code",
      "execution_count": 3,
      "metadata": {
        "id": "RHbBNe_E_AEy"
      },
      "outputs": [],
      "source": [
        "import os\n",
        "os.chdir(\"flask-gpu-app\")"
      ]
    },
    {
      "cell_type": "code",
      "source": [
        "!sudo apt-get install poppler-utils"
      ],
      "metadata": {
        "id": "peo9sTHgTkrP",
        "outputId": "45cd7ec7-b24f-4710-90c1-7c32c8072681",
        "colab": {
          "base_uri": "https://localhost:8080/"
        }
      },
      "execution_count": 4,
      "outputs": [
        {
          "output_type": "stream",
          "name": "stdout",
          "text": [
            "Reading package lists... Done\n",
            "Building dependency tree... Done\n",
            "Reading state information... Done\n",
            "poppler-utils is already the newest version (22.02.0-2ubuntu0.5).\n",
            "0 upgraded, 0 newly installed, 0 to remove and 49 not upgraded.\n"
          ]
        }
      ]
    },
    {
      "cell_type": "code",
      "execution_count": 5,
      "metadata": {
        "id": "J0DvLja4_AEz",
        "outputId": "d63dc2ec-501b-4e8d-f516-2adbeab634f0",
        "colab": {
          "base_uri": "https://localhost:8080/"
        }
      },
      "outputs": [
        {
          "output_type": "stream",
          "name": "stdout",
          "text": [
            "Requirement already satisfied: torch in /usr/local/lib/python3.10/dist-packages (from -r requirements.txt (line 1)) (2.5.1+cu121)\n",
            "Requirement already satisfied: diffusers in /usr/local/lib/python3.10/dist-packages (from -r requirements.txt (line 2)) (0.32.1)\n",
            "Requirement already satisfied: transformers in /usr/local/lib/python3.10/dist-packages (from -r requirements.txt (line 3)) (4.46.3)\n",
            "Requirement already satisfied: scipy in /usr/local/lib/python3.10/dist-packages (from -r requirements.txt (line 4)) (1.13.1)\n",
            "Requirement already satisfied: ftfy in /usr/local/lib/python3.10/dist-packages (from -r requirements.txt (line 5)) (6.3.1)\n",
            "Requirement already satisfied: accelerate in /usr/local/lib/python3.10/dist-packages (from -r requirements.txt (line 6)) (1.2.1)\n",
            "Requirement already satisfied: pyngrok in /usr/local/lib/python3.10/dist-packages (from -r requirements.txt (line 7)) (7.2.3)\n",
            "Requirement already satisfied: flask-ngrok in /usr/local/lib/python3.10/dist-packages (from -r requirements.txt (line 8)) (0.0.25)\n",
            "Requirement already satisfied: quart in /usr/local/lib/python3.10/dist-packages (from -r requirements.txt (line 10)) (0.20.0)\n",
            "Requirement already satisfied: hypercorn in /usr/local/lib/python3.10/dist-packages (from -r requirements.txt (line 11)) (0.17.3)\n",
            "Requirement already satisfied: werkzeug in /usr/local/lib/python3.10/dist-packages (from -r requirements.txt (line 12)) (3.1.3)\n",
            "Requirement already satisfied: numpy in /usr/local/lib/python3.10/dist-packages (from -r requirements.txt (line 13)) (1.26.4)\n",
            "Requirement already satisfied: pandas in /usr/local/lib/python3.10/dist-packages (from -r requirements.txt (line 14)) (2.2.2)\n",
            "Requirement already satisfied: pyairtable in /usr/local/lib/python3.10/dist-packages (from -r requirements.txt (line 15)) (3.0.1)\n",
            "Requirement already satisfied: bubble_api in /usr/local/lib/python3.10/dist-packages (from -r requirements.txt (line 16)) (0.5.1)\n",
            "Requirement already satisfied: byaldi in /usr/local/lib/python3.10/dist-packages (from -r requirements.txt (line 17)) (0.0.7)\n",
            "Requirement already satisfied: pdf2image in /usr/local/lib/python3.10/dist-packages (from -r requirements.txt (line 18)) (1.17.0)\n",
            "Requirement already satisfied: pymupdf in /usr/local/lib/python3.10/dist-packages (from -r requirements.txt (line 19)) (1.25.1)\n",
            "Requirement already satisfied: pypdfium2 in /usr/local/lib/python3.10/dist-packages (from -r requirements.txt (line 20)) (4.30.1)\n",
            "Requirement already satisfied: backoff in /usr/local/lib/python3.10/dist-packages (from -r requirements.txt (line 21)) (2.2.1)\n",
            "Requirement already satisfied: langchain in /usr/local/lib/python3.10/dist-packages (from -r requirements.txt (line 22)) (0.3.14)\n",
            "Requirement already satisfied: langchain_openai in /usr/local/lib/python3.10/dist-packages (from -r requirements.txt (line 23)) (0.3.0)\n",
            "Requirement already satisfied: langchain_community in /usr/local/lib/python3.10/dist-packages (from -r requirements.txt (line 24)) (0.3.14)\n",
            "Requirement already satisfied: langgraph in /usr/local/lib/python3.10/dist-packages (from -r requirements.txt (line 25)) (0.2.62)\n",
            "Requirement already satisfied: shapely in /usr/local/lib/python3.10/dist-packages (from -r requirements.txt (line 26)) (2.0.6)\n",
            "Requirement already satisfied: cloudinary in /usr/local/lib/python3.10/dist-packages (from -r requirements.txt (line 27)) (1.42.1)\n",
            "Requirement already satisfied: faiss-gpu in /usr/local/lib/python3.10/dist-packages (from -r requirements.txt (line 28)) (1.7.2)\n",
            "Requirement already satisfied: flask[async] in /usr/local/lib/python3.10/dist-packages (from -r requirements.txt (line 9)) (3.1.0)\n",
            "Requirement already satisfied: filelock in /usr/local/lib/python3.10/dist-packages (from torch->-r requirements.txt (line 1)) (3.16.1)\n",
            "Requirement already satisfied: typing-extensions>=4.8.0 in /usr/local/lib/python3.10/dist-packages (from torch->-r requirements.txt (line 1)) (4.12.2)\n",
            "Requirement already satisfied: networkx in /usr/local/lib/python3.10/dist-packages (from torch->-r requirements.txt (line 1)) (3.4.2)\n",
            "Requirement already satisfied: jinja2 in /usr/local/lib/python3.10/dist-packages (from torch->-r requirements.txt (line 1)) (3.1.5)\n",
            "Requirement already satisfied: fsspec in /usr/local/lib/python3.10/dist-packages (from torch->-r requirements.txt (line 1)) (2024.9.0)\n",
            "Requirement already satisfied: sympy==1.13.1 in /usr/local/lib/python3.10/dist-packages (from torch->-r requirements.txt (line 1)) (1.13.1)\n",
            "Requirement already satisfied: mpmath<1.4,>=1.1.0 in /usr/local/lib/python3.10/dist-packages (from sympy==1.13.1->torch->-r requirements.txt (line 1)) (1.3.0)\n",
            "Requirement already satisfied: importlib-metadata in /usr/local/lib/python3.10/dist-packages (from diffusers->-r requirements.txt (line 2)) (8.5.0)\n",
            "Requirement already satisfied: huggingface-hub>=0.23.2 in /usr/local/lib/python3.10/dist-packages (from diffusers->-r requirements.txt (line 2)) (0.27.1)\n",
            "Requirement already satisfied: regex!=2019.12.17 in /usr/local/lib/python3.10/dist-packages (from diffusers->-r requirements.txt (line 2)) (2024.11.6)\n",
            "Requirement already satisfied: requests in /usr/local/lib/python3.10/dist-packages (from diffusers->-r requirements.txt (line 2)) (2.32.3)\n",
            "Requirement already satisfied: safetensors>=0.3.1 in /usr/local/lib/python3.10/dist-packages (from diffusers->-r requirements.txt (line 2)) (0.5.1)\n",
            "Requirement already satisfied: Pillow in /usr/local/lib/python3.10/dist-packages (from diffusers->-r requirements.txt (line 2)) (11.1.0)\n",
            "Requirement already satisfied: packaging>=20.0 in /usr/local/lib/python3.10/dist-packages (from transformers->-r requirements.txt (line 3)) (24.2)\n",
            "Requirement already satisfied: pyyaml>=5.1 in /usr/local/lib/python3.10/dist-packages (from transformers->-r requirements.txt (line 3)) (6.0.2)\n",
            "Requirement already satisfied: tokenizers<0.21,>=0.20 in /usr/local/lib/python3.10/dist-packages (from transformers->-r requirements.txt (line 3)) (0.20.3)\n",
            "Requirement already satisfied: tqdm>=4.27 in /usr/local/lib/python3.10/dist-packages (from transformers->-r requirements.txt (line 3)) (4.67.1)\n",
            "Requirement already satisfied: wcwidth in /usr/local/lib/python3.10/dist-packages (from ftfy->-r requirements.txt (line 5)) (0.2.13)\n",
            "Requirement already satisfied: psutil in /usr/local/lib/python3.10/dist-packages (from accelerate->-r requirements.txt (line 6)) (5.9.5)\n",
            "Requirement already satisfied: itsdangerous>=2.2 in /usr/local/lib/python3.10/dist-packages (from flask[async]->-r requirements.txt (line 9)) (2.2.0)\n",
            "Requirement already satisfied: click>=8.1.3 in /usr/local/lib/python3.10/dist-packages (from flask[async]->-r requirements.txt (line 9)) (8.1.8)\n",
            "Requirement already satisfied: blinker>=1.9 in /usr/local/lib/python3.10/dist-packages (from flask[async]->-r requirements.txt (line 9)) (1.9.0)\n",
            "Requirement already satisfied: asgiref>=3.2 in /usr/local/lib/python3.10/dist-packages (from flask[async]->-r requirements.txt (line 9)) (3.8.1)\n",
            "Requirement already satisfied: aiofiles in /usr/local/lib/python3.10/dist-packages (from quart->-r requirements.txt (line 10)) (24.1.0)\n",
            "Requirement already satisfied: markupsafe in /usr/local/lib/python3.10/dist-packages (from quart->-r requirements.txt (line 10)) (3.0.2)\n",
            "Requirement already satisfied: exceptiongroup>=1.1.0 in /usr/local/lib/python3.10/dist-packages (from hypercorn->-r requirements.txt (line 11)) (1.2.2)\n",
            "Requirement already satisfied: h11 in /usr/local/lib/python3.10/dist-packages (from hypercorn->-r requirements.txt (line 11)) (0.14.0)\n",
            "Requirement already satisfied: h2>=3.1.0 in /usr/local/lib/python3.10/dist-packages (from hypercorn->-r requirements.txt (line 11)) (4.1.0)\n",
            "Requirement already satisfied: priority in /usr/local/lib/python3.10/dist-packages (from hypercorn->-r requirements.txt (line 11)) (2.0.0)\n",
            "Requirement already satisfied: taskgroup in /usr/local/lib/python3.10/dist-packages (from hypercorn->-r requirements.txt (line 11)) (0.2.2)\n",
            "Requirement already satisfied: tomli in /usr/local/lib/python3.10/dist-packages (from hypercorn->-r requirements.txt (line 11)) (2.2.1)\n",
            "Requirement already satisfied: wsproto>=0.14.0 in /usr/local/lib/python3.10/dist-packages (from hypercorn->-r requirements.txt (line 11)) (1.2.0)\n",
            "Requirement already satisfied: python-dateutil>=2.8.2 in /usr/local/lib/python3.10/dist-packages (from pandas->-r requirements.txt (line 14)) (2.8.2)\n",
            "Requirement already satisfied: pytz>=2020.1 in /usr/local/lib/python3.10/dist-packages (from pandas->-r requirements.txt (line 14)) (2024.2)\n",
            "Requirement already satisfied: tzdata>=2022.7 in /usr/local/lib/python3.10/dist-packages (from pandas->-r requirements.txt (line 14)) (2024.2)\n",
            "Requirement already satisfied: inflection in /usr/local/lib/python3.10/dist-packages (from pyairtable->-r requirements.txt (line 15)) (0.5.1)\n",
            "Requirement already satisfied: pydantic<3,>=2 in /usr/local/lib/python3.10/dist-packages (from pyairtable->-r requirements.txt (line 15)) (2.10.4)\n",
            "Requirement already satisfied: urllib3>=1.26 in /usr/local/lib/python3.10/dist-packages (from pyairtable->-r requirements.txt (line 15)) (2.3.0)\n",
            "Requirement already satisfied: httpx in /usr/local/lib/python3.10/dist-packages (from bubble_api->-r requirements.txt (line 16)) (0.28.1)\n",
            "Requirement already satisfied: colpali-engine<0.4.0,>=0.3.4 in /usr/local/lib/python3.10/dist-packages (from byaldi->-r requirements.txt (line 17)) (0.3.6)\n",
            "Requirement already satisfied: ml-dtypes in /usr/local/lib/python3.10/dist-packages (from byaldi->-r requirements.txt (line 17)) (0.4.1)\n",
            "Requirement already satisfied: mteb==1.6.35 in /usr/local/lib/python3.10/dist-packages (from byaldi->-r requirements.txt (line 17)) (1.6.35)\n",
            "Requirement already satisfied: ninja in /usr/local/lib/python3.10/dist-packages (from byaldi->-r requirements.txt (line 17)) (1.11.1.3)\n",
            "Requirement already satisfied: srsly in /usr/local/lib/python3.10/dist-packages (from byaldi->-r requirements.txt (line 17)) (2.5.0)\n",
            "Requirement already satisfied: datasets>=2.2.0 in /usr/local/lib/python3.10/dist-packages (from mteb==1.6.35->byaldi->-r requirements.txt (line 17)) (3.2.0)\n",
            "Requirement already satisfied: jsonlines in /usr/local/lib/python3.10/dist-packages (from mteb==1.6.35->byaldi->-r requirements.txt (line 17)) (4.0.0)\n",
            "Requirement already satisfied: scikit-learn>=1.0.2 in /usr/local/lib/python3.10/dist-packages (from mteb==1.6.35->byaldi->-r requirements.txt (line 17)) (1.6.0)\n",
            "Requirement already satisfied: sentence-transformers>=2.2.0 in /usr/local/lib/python3.10/dist-packages (from mteb==1.6.35->byaldi->-r requirements.txt (line 17)) (3.3.1)\n",
            "Requirement already satisfied: rich in /usr/local/lib/python3.10/dist-packages (from mteb==1.6.35->byaldi->-r requirements.txt (line 17)) (13.9.4)\n",
            "Requirement already satisfied: pytrec-eval-terrier>=0.5.6 in /usr/local/lib/python3.10/dist-packages (from mteb==1.6.35->byaldi->-r requirements.txt (line 17)) (0.5.6)\n",
            "Requirement already satisfied: eval-type-backport in /usr/local/lib/python3.10/dist-packages (from mteb==1.6.35->byaldi->-r requirements.txt (line 17)) (0.2.2)\n",
            "Requirement already satisfied: SQLAlchemy<3,>=1.4 in /usr/local/lib/python3.10/dist-packages (from langchain->-r requirements.txt (line 22)) (2.0.36)\n",
            "Requirement already satisfied: aiohttp<4.0.0,>=3.8.3 in /usr/local/lib/python3.10/dist-packages (from langchain->-r requirements.txt (line 22)) (3.11.11)\n",
            "Requirement already satisfied: async-timeout<5.0.0,>=4.0.0 in /usr/local/lib/python3.10/dist-packages (from langchain->-r requirements.txt (line 22)) (4.0.3)\n",
            "Requirement already satisfied: langchain-core<0.4.0,>=0.3.29 in /usr/local/lib/python3.10/dist-packages (from langchain->-r requirements.txt (line 22)) (0.3.29)\n",
            "Requirement already satisfied: langchain-text-splitters<0.4.0,>=0.3.3 in /usr/local/lib/python3.10/dist-packages (from langchain->-r requirements.txt (line 22)) (0.3.5)\n",
            "Requirement already satisfied: langsmith<0.3,>=0.1.17 in /usr/local/lib/python3.10/dist-packages (from langchain->-r requirements.txt (line 22)) (0.2.10)\n",
            "Requirement already satisfied: tenacity!=8.4.0,<10,>=8.1.0 in /usr/local/lib/python3.10/dist-packages (from langchain->-r requirements.txt (line 22)) (9.0.0)\n",
            "Requirement already satisfied: openai<2.0.0,>=1.58.1 in /usr/local/lib/python3.10/dist-packages (from langchain_openai->-r requirements.txt (line 23)) (1.59.4)\n",
            "Requirement already satisfied: tiktoken<1,>=0.7 in /usr/local/lib/python3.10/dist-packages (from langchain_openai->-r requirements.txt (line 23)) (0.8.0)\n",
            "Requirement already satisfied: dataclasses-json<0.7,>=0.5.7 in /usr/local/lib/python3.10/dist-packages (from langchain_community->-r requirements.txt (line 24)) (0.6.7)\n",
            "Requirement already satisfied: httpx-sse<0.5.0,>=0.4.0 in /usr/local/lib/python3.10/dist-packages (from langchain_community->-r requirements.txt (line 24)) (0.4.0)\n",
            "Requirement already satisfied: pydantic-settings<3.0.0,>=2.4.0 in /usr/local/lib/python3.10/dist-packages (from langchain_community->-r requirements.txt (line 24)) (2.7.1)\n",
            "Requirement already satisfied: langgraph-checkpoint<3.0.0,>=2.0.4 in /usr/local/lib/python3.10/dist-packages (from langgraph->-r requirements.txt (line 25)) (2.0.9)\n",
            "Requirement already satisfied: langgraph-sdk<0.2.0,>=0.1.42 in /usr/local/lib/python3.10/dist-packages (from langgraph->-r requirements.txt (line 25)) (0.1.51)\n",
            "Requirement already satisfied: six in /usr/local/lib/python3.10/dist-packages (from cloudinary->-r requirements.txt (line 27)) (1.17.0)\n",
            "Requirement already satisfied: certifi in /usr/local/lib/python3.10/dist-packages (from cloudinary->-r requirements.txt (line 27)) (2024.12.14)\n",
            "Requirement already satisfied: aiohappyeyeballs>=2.3.0 in /usr/local/lib/python3.10/dist-packages (from aiohttp<4.0.0,>=3.8.3->langchain->-r requirements.txt (line 22)) (2.4.4)\n",
            "Requirement already satisfied: aiosignal>=1.1.2 in /usr/local/lib/python3.10/dist-packages (from aiohttp<4.0.0,>=3.8.3->langchain->-r requirements.txt (line 22)) (1.3.2)\n",
            "Requirement already satisfied: attrs>=17.3.0 in /usr/local/lib/python3.10/dist-packages (from aiohttp<4.0.0,>=3.8.3->langchain->-r requirements.txt (line 22)) (24.3.0)\n",
            "Requirement already satisfied: frozenlist>=1.1.1 in /usr/local/lib/python3.10/dist-packages (from aiohttp<4.0.0,>=3.8.3->langchain->-r requirements.txt (line 22)) (1.5.0)\n",
            "Requirement already satisfied: multidict<7.0,>=4.5 in /usr/local/lib/python3.10/dist-packages (from aiohttp<4.0.0,>=3.8.3->langchain->-r requirements.txt (line 22)) (6.1.0)\n",
            "Requirement already satisfied: propcache>=0.2.0 in /usr/local/lib/python3.10/dist-packages (from aiohttp<4.0.0,>=3.8.3->langchain->-r requirements.txt (line 22)) (0.2.1)\n",
            "Requirement already satisfied: yarl<2.0,>=1.17.0 in /usr/local/lib/python3.10/dist-packages (from aiohttp<4.0.0,>=3.8.3->langchain->-r requirements.txt (line 22)) (1.18.3)\n",
            "Requirement already satisfied: gputil in /usr/local/lib/python3.10/dist-packages (from colpali-engine<0.4.0,>=0.3.4->byaldi->-r requirements.txt (line 17)) (1.4.0)\n",
            "Requirement already satisfied: peft>=0.11.0 in /usr/local/lib/python3.10/dist-packages (from colpali-engine<0.4.0,>=0.3.4->byaldi->-r requirements.txt (line 17)) (0.14.0)\n",
            "Requirement already satisfied: marshmallow<4.0.0,>=3.18.0 in /usr/local/lib/python3.10/dist-packages (from dataclasses-json<0.7,>=0.5.7->langchain_community->-r requirements.txt (line 24)) (3.25.1)\n",
            "Requirement already satisfied: typing-inspect<1,>=0.4.0 in /usr/local/lib/python3.10/dist-packages (from dataclasses-json<0.7,>=0.5.7->langchain_community->-r requirements.txt (line 24)) (0.9.0)\n",
            "Requirement already satisfied: hyperframe<7,>=6.0 in /usr/local/lib/python3.10/dist-packages (from h2>=3.1.0->hypercorn->-r requirements.txt (line 11)) (6.0.1)\n",
            "Requirement already satisfied: hpack<5,>=4.0 in /usr/local/lib/python3.10/dist-packages (from h2>=3.1.0->hypercorn->-r requirements.txt (line 11)) (4.0.0)\n",
            "Requirement already satisfied: jsonpatch<2.0,>=1.33 in /usr/local/lib/python3.10/dist-packages (from langchain-core<0.4.0,>=0.3.29->langchain->-r requirements.txt (line 22)) (1.33)\n",
            "Requirement already satisfied: msgpack<2.0.0,>=1.1.0 in /usr/local/lib/python3.10/dist-packages (from langgraph-checkpoint<3.0.0,>=2.0.4->langgraph->-r requirements.txt (line 25)) (1.1.0)\n",
            "Requirement already satisfied: orjson>=3.10.1 in /usr/local/lib/python3.10/dist-packages (from langgraph-sdk<0.2.0,>=0.1.42->langgraph->-r requirements.txt (line 25)) (3.10.13)\n",
            "Requirement already satisfied: anyio in /usr/local/lib/python3.10/dist-packages (from httpx->bubble_api->-r requirements.txt (line 16)) (3.7.1)\n",
            "Requirement already satisfied: httpcore==1.* in /usr/local/lib/python3.10/dist-packages (from httpx->bubble_api->-r requirements.txt (line 16)) (1.0.7)\n",
            "Requirement already satisfied: idna in /usr/local/lib/python3.10/dist-packages (from httpx->bubble_api->-r requirements.txt (line 16)) (3.10)\n",
            "Requirement already satisfied: requests-toolbelt<2.0.0,>=1.0.0 in /usr/local/lib/python3.10/dist-packages (from langsmith<0.3,>=0.1.17->langchain->-r requirements.txt (line 22)) (1.0.0)\n",
            "Requirement already satisfied: distro<2,>=1.7.0 in /usr/local/lib/python3.10/dist-packages (from openai<2.0.0,>=1.58.1->langchain_openai->-r requirements.txt (line 23)) (1.9.0)\n",
            "Requirement already satisfied: jiter<1,>=0.4.0 in /usr/local/lib/python3.10/dist-packages (from openai<2.0.0,>=1.58.1->langchain_openai->-r requirements.txt (line 23)) (0.8.2)\n",
            "Requirement already satisfied: sniffio in /usr/local/lib/python3.10/dist-packages (from openai<2.0.0,>=1.58.1->langchain_openai->-r requirements.txt (line 23)) (1.3.1)\n",
            "Requirement already satisfied: annotated-types>=0.6.0 in /usr/local/lib/python3.10/dist-packages (from pydantic<3,>=2->pyairtable->-r requirements.txt (line 15)) (0.7.0)\n",
            "Requirement already satisfied: pydantic-core==2.27.2 in /usr/local/lib/python3.10/dist-packages (from pydantic<3,>=2->pyairtable->-r requirements.txt (line 15)) (2.27.2)\n",
            "Requirement already satisfied: python-dotenv>=0.21.0 in /usr/local/lib/python3.10/dist-packages (from pydantic-settings<3.0.0,>=2.4.0->langchain_community->-r requirements.txt (line 24)) (1.0.1)\n",
            "Requirement already satisfied: charset-normalizer<4,>=2 in /usr/local/lib/python3.10/dist-packages (from requests->diffusers->-r requirements.txt (line 2)) (3.4.1)\n",
            "Requirement already satisfied: greenlet!=0.4.17 in /usr/local/lib/python3.10/dist-packages (from SQLAlchemy<3,>=1.4->langchain->-r requirements.txt (line 22)) (3.1.1)\n",
            "Requirement already satisfied: zipp>=3.20 in /usr/local/lib/python3.10/dist-packages (from importlib-metadata->diffusers->-r requirements.txt (line 2)) (3.21.0)\n",
            "Requirement already satisfied: catalogue<2.1.0,>=2.0.3 in /usr/local/lib/python3.10/dist-packages (from srsly->byaldi->-r requirements.txt (line 17)) (2.0.10)\n",
            "Requirement already satisfied: pyarrow>=15.0.0 in /usr/local/lib/python3.10/dist-packages (from datasets>=2.2.0->mteb==1.6.35->byaldi->-r requirements.txt (line 17)) (17.0.0)\n",
            "Requirement already satisfied: dill<0.3.9,>=0.3.0 in /usr/local/lib/python3.10/dist-packages (from datasets>=2.2.0->mteb==1.6.35->byaldi->-r requirements.txt (line 17)) (0.3.8)\n",
            "Requirement already satisfied: xxhash in /usr/local/lib/python3.10/dist-packages (from datasets>=2.2.0->mteb==1.6.35->byaldi->-r requirements.txt (line 17)) (3.5.0)\n",
            "Requirement already satisfied: multiprocess<0.70.17 in /usr/local/lib/python3.10/dist-packages (from datasets>=2.2.0->mteb==1.6.35->byaldi->-r requirements.txt (line 17)) (0.70.16)\n",
            "Requirement already satisfied: jsonpointer>=1.9 in /usr/local/lib/python3.10/dist-packages (from jsonpatch<2.0,>=1.33->langchain-core<0.4.0,>=0.3.29->langchain->-r requirements.txt (line 22)) (3.0.0)\n",
            "Requirement already satisfied: joblib>=1.2.0 in /usr/local/lib/python3.10/dist-packages (from scikit-learn>=1.0.2->mteb==1.6.35->byaldi->-r requirements.txt (line 17)) (1.4.2)\n",
            "Requirement already satisfied: threadpoolctl>=3.1.0 in /usr/local/lib/python3.10/dist-packages (from scikit-learn>=1.0.2->mteb==1.6.35->byaldi->-r requirements.txt (line 17)) (3.5.0)\n",
            "Requirement already satisfied: mypy-extensions>=0.3.0 in /usr/local/lib/python3.10/dist-packages (from typing-inspect<1,>=0.4.0->dataclasses-json<0.7,>=0.5.7->langchain_community->-r requirements.txt (line 24)) (1.0.0)\n",
            "Requirement already satisfied: markdown-it-py>=2.2.0 in /usr/local/lib/python3.10/dist-packages (from rich->mteb==1.6.35->byaldi->-r requirements.txt (line 17)) (3.0.0)\n",
            "Requirement already satisfied: pygments<3.0.0,>=2.13.0 in /usr/local/lib/python3.10/dist-packages (from rich->mteb==1.6.35->byaldi->-r requirements.txt (line 17)) (2.18.0)\n",
            "Requirement already satisfied: mdurl~=0.1 in /usr/local/lib/python3.10/dist-packages (from markdown-it-py>=2.2.0->rich->mteb==1.6.35->byaldi->-r requirements.txt (line 17)) (0.1.2)\n"
          ]
        }
      ],
      "source": [
        "!pip install -r requirements.txt"
      ]
    },
    {
      "cell_type": "code",
      "execution_count": null,
      "metadata": {
        "id": "yIEcRpbG_AE0",
        "outputId": "7453263b-0cb3-4130-8628-d1b60d1a5b56",
        "colab": {
          "base_uri": "https://localhost:8080/"
        }
      },
      "outputs": [
        {
          "output_type": "stream",
          "name": "stdout",
          "text": [
            "2025-01-13 13:15:35.159671: E external/local_xla/xla/stream_executor/cuda/cuda_fft.cc:485] Unable to register cuFFT factory: Attempting to register factory for plugin cuFFT when one has already been registered\n",
            "2025-01-13 13:15:35.181592: E external/local_xla/xla/stream_executor/cuda/cuda_dnn.cc:8454] Unable to register cuDNN factory: Attempting to register factory for plugin cuDNN when one has already been registered\n",
            "2025-01-13 13:15:35.188388: E external/local_xla/xla/stream_executor/cuda/cuda_blas.cc:1452] Unable to register cuBLAS factory: Attempting to register factory for plugin cuBLAS when one has already been registered\n",
            "2025-01-13 13:15:35.204619: I tensorflow/core/platform/cpu_feature_guard.cc:210] This TensorFlow binary is optimized to use available CPU instructions in performance-critical operations.\n",
            "To enable the following instructions: AVX2 AVX512F FMA, in other operations, rebuild TensorFlow with the appropriate compiler flags.\n",
            "2025-01-13 13:15:36.575919: W tensorflow/compiler/tf2tensorrt/utils/py_utils.cc:38] TF-TRT Warning: Could not find TensorRT\n",
            "Enter your authtoken, which can be copied from https://dashboard.ngrok.com/get-started/your-authtoken\n",
            "Password: \n",
            "Enter your openAI API key: \n",
            "Password: \n",
            "Verbosity is set to 1 (active). Pass verbose=0 to make quieter.\n",
            "`Qwen2VLRotaryEmbedding` can now be fully parameterized by passing the model config through the `config` argument. All other arguments will be removed in v4.46\n",
            "Loading checkpoint shards: 100% 2/2 [00:35<00:00, 17.89s/it]\n",
            " * ngrok tunnel \"https://fa44-34-13-164-221.ngrok-free.app\" -> \"http://127.0.0.1:8000\"\n",
            "[2025-01-13 13:16:46 +0000] [44066] [INFO] Running on http://127.0.0.1:8000 (CTRL + C to quit)\n",
            "/content/flask-gpu-app/main.py:499: RuntimeWarning: coroutine 'FileStorage.save' was never awaited\n",
            "  file.save(filepath)\n",
            "RuntimeWarning: Enable tracemalloc to get the object allocation traceback\n",
            "Added page 1 of document 0 to index.\n",
            "Added page 2 of document 0 to index.\n",
            "Added page 3 of document 0 to index.\n",
            "Index exported to .byaldi/multimodal_rag\n",
            "Index exported to .byaldi/multimodal_rag\n",
            "data has been written to 98887ce3-12d1-4015-8f9a-23eec2219264.txt\n",
            "File 98887ce3-12d1-4015-8f9a-23eec2219264.txt deleted successfully.\n",
            "---CALL AGENT---\n",
            "---CHECK RELEVANCE---\n",
            "question:  \n",
            "                        \"Report the total water withdrawn by the company in 2023, if it is disclosed in the provided context. \n",
            "                        In your answer, print only the number (in metres cubed), and do not include units.\n",
            "context:  \"**CO\\u2082 Capital Relief Fund**\\n\\n- **Number of projects completed (annual):**\\n  - 2023: 5\\n  - 2022: 5\\n  - 2021: 10\\n\\n- **Amount spent on projects (annual) (millions):**\\n  - 2023: $16\\n  - 2022: $15\\n  - 2021: $11\\n\\n- **Cumulative projects completed since 2005:** 205\\n\\n- **Cumulative spend on completed projects since 2005 (millions):**\\n  - 2023: $387\\n  - 2022: $384\\n  - 2021: $382\\n\\n- **Total annual energy cost savings as a result of completed projects since 2005 (millions):**\\n  - 2023: $69\\n  - 2022: $69\\n  - 2021: $68\\n\\n- **Total annual energy savings as a result of completed projects (TJ):**\\n  - 2023: 2,016\\n  - 2022: 1,976\\n  - 2021: 1,966\\n\\n- **Total annual GHG emissions avoided as a result of completed projects since 2005 (MT CO\\u2082e):**\\n  - 2023: 264,710\\n  - 2022: 260,954\\n  - 2021: 259,208\\n\\n**Air Emissions by Source (MT)**\\n\\n- **Hazardous air pollutants (HAP):**\\n  - 2023: 43.5\\n  - 2022: 45.4\\n  - 2021: 43.3\\n\\n- **Volatile organic compounds (VOC):**\\n  - 2023: 302.7\\n  - 2022: 339.1\\n  - 2021: 449.1\\n\\n- **Particulate matter (PM):**\\n  - 2023: 27.3\\n  - 2022: 65.1\\n  - 2021: 67.1\\n\\n- **Refrigerants:**\\n  - 2023: 3.6\\n  - 2022: 10.0\\n  - 2021: 8.6\\n\\n- **Ozone-depleting substances:**\\n  - 2023: 0.1\\n  - 2022: 3.3\\n  - 2021: 1.3\\n\\n- **Ozone-depleting substances (MT of CFC-11 equivalents):**\\n  - 2023: 0\\n  - 2022: 0.2\\n  - 2021: 0.1\\n\\n- **Sulfur oxides (SOx):**\\n  - 2023: 39\\n  - 2022: 57\\n  - 2021: 53\\n\\n- **Mono-nitrogen oxides (NOx):**\\n  - 2023: 28\\n  - 2022: 41\\n  - 2021: 37\\n\\n**Water Use (Million m\\u00b3)**\\n\\n- **Total water withdrawn:**\\n  - 2023: 7.30\\n  - 2022: 11.1\\n  - 2021: 11.04\\n\\n- **Total water consumed:**\\n  - 2023: 1.53\\n  - 2022: 3.93\\n  - 2021: 3.89\\n\\n- **Total water recycled and reused:**\\n  - 2023: 0.38\\n  - 2022: 0.83\\n  - 2021: 0.81\\n\\n- **Total water discharge:**\\n  - 2023: 5.77\\n  - 2022: 7.18\\n  - 2021: 7.15\\n\\n- **Percentage of water withdrawn in regions of high or extremely high baseline water stress:**\\n  - 2023: 44%\\n  - 2022: 40%\\n  - 2021: 40%\\n\\n- **Percentage of water consumed in regions of high or extremely high baseline water stress:**\\n  - 2023: 57%\\n  - 2022: 49%\\n  - 2021: 52%\\n\\n**Water withdrawn by source**\\n\\n- **Municipal:**\\n  - 2023: 5.77\\n  - 2022: 8.13\\n  - 2021: 7.70\\n\\n- **Groundwater:**\\n  - 2023: 1.22\\n  - 2022: 2.70\\n  - 2021: 3.06\\n\\n- **Gray water:**\\n  - 2023: 0.01\\n  - 2022: 0\\n  - 2021: 0.02\\n\\n- **Other:**\\n  - 2023: 0.08\\n  - 2022: 0.08\\n  - 2021: 0.09\\n\\n- **Rainwater:**\\n  - 2023: 0.23\\n  - 2022: 0.18\\n  - 2021: 0.15\\n\\n- **Surface water:**\\n  - 2023: 0\\n  - 2022: 0.01\\n  - 2021: 0.01\\n\\n**Water withdrawn in areas of high or extremely high baseline water stress by source**\\n\\n- **Freshwater (\\u22641,000 mg/L Total Dissolved Solids):**\\n  - 2023: 7.22\\n  - 2022: 11.01\\n  - 2021: Not reported\\n\\n- **Other water (>1,000 mg/L Total Dissolved Solids):**\\n  - 2023: 0.09\\n  - 2022: 0.08\\n  - 2021: Not reported\\n\\n- **Total water withdrawn in areas with high to extremely high water stress:**\\n  - 2023: 3.20\\n  - 2022: 4.42\\n  - 2021: 4.45\\n\\n**Water discharge in areas with high to extremely high water stress by destination**\\n\\n- **Wastewater treatment plant:**\\n  - 2023: 1.39\\n  - 2022: 1.57\\n  - 2021: Not reported\\n\\n- **Surface water:**\\n  - 2023: 0.71\\n  - 2022: 0.70\\n  - 2021: Not reported\\n\\n- **Irrigation:**\\n  - 2023: 0.22\\n  - 2022: 0.23\\n  - 2021: Not reported\\n\\n- **Other:**\\n  - 2023: 0\\n  - 2022: 0\\n  - 2021: Not reported\\n\\n- **Ocean:**\\n  - 2023: 0\\n  - 2022: 0\\n  - 2021: Not reported\\n\\n- **Total water discharge in areas with high to extremely high water stress:**\\n  - 2023: 2.32\\n  - 2022: 2.50\\n  - 2021: Not reported\\n\\n**Water discharge by destination**\\n\\n- **Wastewater treatment plant:**\\n  - 2023: 4.01\\n  - 2022: 4.83\\n  - 2021: 4.81\\n\\n- **Surface water:**\\n  - 2023: 1.23\\n  - 2022: 1.80\\n  - 2021: 1.85\\n\\n- **Irrigation:**\\n  - 2023: 0.24\\n  - 2022: 0.28\\n  - 2021: 0.26\\n\\n- **Other:**\\n  - 2023: 0.05\\n  - 2022: 0.04\\n  - 2021: 0.06\\n\\n- **Ocean:**\\n  - 2023: 0.25\\n  - 2022: 0.22\\n  - 2021: 0.18\"\n",
            "---DECISION: DOCS RELEVANT---\n",
            "---GENERATE---\n",
            "/usr/local/lib/python3.10/dist-packages/langsmith/client.py:256: LangSmithMissingAPIKeyWarning: API key must be provided when using hosted LangSmith API\n",
            "  warnings.warn(\n",
            "context:  \"**CO\\u2082 Capital Relief Fund**\\n\\n- **Number of projects completed (annual):**\\n  - 2023: 5\\n  - 2022: 5\\n  - 2021: 10\\n\\n- **Amount spent on projects (annual) (millions):**\\n  - 2023: $16\\n  - 2022: $15\\n  - 2021: $11\\n\\n- **Cumulative projects completed since 2005:** 205\\n\\n- **Cumulative spend on completed projects since 2005 (millions):**\\n  - 2023: $387\\n  - 2022: $384\\n  - 2021: $382\\n\\n- **Total annual energy cost savings as a result of completed projects since 2005 (millions):**\\n  - 2023: $69\\n  - 2022: $69\\n  - 2021: $68\\n\\n- **Total annual energy savings as a result of completed projects (TJ):**\\n  - 2023: 2,016\\n  - 2022: 1,976\\n  - 2021: 1,966\\n\\n- **Total annual GHG emissions avoided as a result of completed projects since 2005 (MT CO\\u2082e):**\\n  - 2023: 264,710\\n  - 2022: 260,954\\n  - 2021: 259,208\\n\\n**Air Emissions by Source (MT)**\\n\\n- **Hazardous air pollutants (HAP):**\\n  - 2023: 43.5\\n  - 2022: 45.4\\n  - 2021: 43.3\\n\\n- **Volatile organic compounds (VOC):**\\n  - 2023: 302.7\\n  - 2022: 339.1\\n  - 2021: 449.1\\n\\n- **Particulate matter (PM):**\\n  - 2023: 27.3\\n  - 2022: 65.1\\n  - 2021: 67.1\\n\\n- **Refrigerants:**\\n  - 2023: 3.6\\n  - 2022: 10.0\\n  - 2021: 8.6\\n\\n- **Ozone-depleting substances:**\\n  - 2023: 0.1\\n  - 2022: 3.3\\n  - 2021: 1.3\\n\\n- **Ozone-depleting substances (MT of CFC-11 equivalents):**\\n  - 2023: 0\\n  - 2022: 0.2\\n  - 2021: 0.1\\n\\n- **Sulfur oxides (SOx):**\\n  - 2023: 39\\n  - 2022: 57\\n  - 2021: 53\\n\\n- **Mono-nitrogen oxides (NOx):**\\n  - 2023: 28\\n  - 2022: 41\\n  - 2021: 37\\n\\n**Water Use (Million m\\u00b3)**\\n\\n- **Total water withdrawn:**\\n  - 2023: 7.30\\n  - 2022: 11.1\\n  - 2021: 11.04\\n\\n- **Total water consumed:**\\n  - 2023: 1.53\\n  - 2022: 3.93\\n  - 2021: 3.89\\n\\n- **Total water recycled and reused:**\\n  - 2023: 0.38\\n  - 2022: 0.83\\n  - 2021: 0.81\\n\\n- **Total water discharge:**\\n  - 2023: 5.77\\n  - 2022: 7.18\\n  - 2021: 7.15\\n\\n- **Percentage of water withdrawn in regions of high or extremely high baseline water stress:**\\n  - 2023: 44%\\n  - 2022: 40%\\n  - 2021: 40%\\n\\n- **Percentage of water consumed in regions of high or extremely high baseline water stress:**\\n  - 2023: 57%\\n  - 2022: 49%\\n  - 2021: 52%\\n\\n**Water withdrawn by source**\\n\\n- **Municipal:**\\n  - 2023: 5.77\\n  - 2022: 8.13\\n  - 2021: 7.70\\n\\n- **Groundwater:**\\n  - 2023: 1.22\\n  - 2022: 2.70\\n  - 2021: 3.06\\n\\n- **Gray water:**\\n  - 2023: 0.01\\n  - 2022: 0\\n  - 2021: 0.02\\n\\n- **Other:**\\n  - 2023: 0.08\\n  - 2022: 0.08\\n  - 2021: 0.09\\n\\n- **Rainwater:**\\n  - 2023: 0.23\\n  - 2022: 0.18\\n  - 2021: 0.15\\n\\n- **Surface water:**\\n  - 2023: 0\\n  - 2022: 0.01\\n  - 2021: 0.01\\n\\n**Water withdrawn in areas of high or extremely high baseline water stress by source**\\n\\n- **Freshwater (\\u22641,000 mg/L Total Dissolved Solids):**\\n  - 2023: 7.22\\n  - 2022: 11.01\\n  - 2021: Not reported\\n\\n- **Other water (>1,000 mg/L Total Dissolved Solids):**\\n  - 2023: 0.09\\n  - 2022: 0.08\\n  - 2021: Not reported\\n\\n- **Total water withdrawn in areas with high to extremely high water stress:**\\n  - 2023: 3.20\\n  - 2022: 4.42\\n  - 2021: 4.45\\n\\n**Water discharge in areas with high to extremely high water stress by destination**\\n\\n- **Wastewater treatment plant:**\\n  - 2023: 1.39\\n  - 2022: 1.57\\n  - 2021: Not reported\\n\\n- **Surface water:**\\n  - 2023: 0.71\\n  - 2022: 0.70\\n  - 2021: Not reported\\n\\n- **Irrigation:**\\n  - 2023: 0.22\\n  - 2022: 0.23\\n  - 2021: Not reported\\n\\n- **Other:**\\n  - 2023: 0\\n  - 2022: 0\\n  - 2021: Not reported\\n\\n- **Ocean:**\\n  - 2023: 0\\n  - 2022: 0\\n  - 2021: Not reported\\n\\n- **Total water discharge in areas with high to extremely high water stress:**\\n  - 2023: 2.32\\n  - 2022: 2.50\\n  - 2021: Not reported\\n\\n**Water discharge by destination**\\n\\n- **Wastewater treatment plant:**\\n  - 2023: 4.01\\n  - 2022: 4.83\\n  - 2021: 4.81\\n\\n- **Surface water:**\\n  - 2023: 1.23\\n  - 2022: 1.80\\n  - 2021: 1.85\\n\\n- **Irrigation:**\\n  - 2023: 0.24\\n  - 2022: 0.28\\n  - 2021: 0.26\\n\\n- **Other:**\\n  - 2023: 0.05\\n  - 2022: 0.04\\n  - 2021: 0.06\\n\\n- **Ocean:**\\n  - 2023: 0.25\\n  - 2022: 0.22\\n  - 2021: 0.18\"\n",
            "question:  \n",
            "                        \"Report the total water withdrawn by the company in 2023, if it is disclosed in the provided context. \n",
            "                        In your answer, print only the number (in metres cubed), and do not include units.\n",
            "Metric was found on colpali page 1\n"
          ]
        }
      ],
      "source": [
        "!python main.py"
      ]
    }
  ],
  "metadata": {
    "kernelspec": {
      "display_name": "Python 3",
      "name": "python3"
    },
    "language_info": {
      "name": "python",
      "version": "3.11.0 (v3.11.0:deaf509e8f, Oct 24 2022, 14:43:23) [Clang 13.0.0 (clang-1300.0.29.30)]"
    },
    "orig_nbformat": 4,
    "vscode": {
      "interpreter": {
        "hash": "aee8b7b246df8f9039afb4144a1f6fd8d2ca17a180786b69acc140d282b71a49"
      }
    },
    "colab": {
      "provenance": [],
      "gpuType": "T4"
    },
    "accelerator": "GPU"
  },
  "nbformat": 4,
  "nbformat_minor": 0
}